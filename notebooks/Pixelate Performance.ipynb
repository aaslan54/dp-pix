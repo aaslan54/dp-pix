{
 "cells": [
  {
   "cell_type": "code",
   "execution_count": 1,
   "metadata": {},
   "outputs": [],
   "source": [
    "import sys\n",
    "sys.path.insert(0,\"..\")\n",
    "\n",
    "from src import dataset as db\n",
    "from src import util as iu\n",
    "from src.timer import Timer\n",
    "from src.pixelate import Pixelate\n",
    "from src.resize import Resize"
   ]
  },
  {
   "cell_type": "code",
   "execution_count": 2,
   "metadata": {},
   "outputs": [],
   "source": [
    "miniImageNet = db.MiniImageNetDataset()\n",
    "images = miniImageNet.load_images(n=100)\n",
    "target_h, target_w = miniImageNet.scale"
   ]
  },
  {
   "cell_type": "code",
   "execution_count": 3,
   "metadata": {},
   "outputs": [],
   "source": [
    "resized_images = [Resize.pad_image(img, target_h, target_w) for img in images]"
   ]
  },
  {
   "cell_type": "code",
   "execution_count": 4,
   "metadata": {},
   "outputs": [],
   "source": [
    "clock = Timer()"
   ]
  },
  {
   "cell_type": "code",
   "execution_count": 5,
   "metadata": {},
   "outputs": [
    {
     "name": "stdout",
     "output_type": "stream",
     "text": [
      "sequential -  Elapsed time: 15.5594 seconds\n",
      "skimage -  Elapsed time: 1.0494 seconds\n",
      "pytorch -  Elapsed time: 0.0619 seconds\n"
     ]
    }
   ],
   "source": [
    "for method in [Pixelate.sequential, Pixelate.skimage, Pixelate.pytorch]:\n",
    "    print(method.__name__, end=\" -  \")\n",
    "    clock.start()\n",
    "    for img, f_h, f_w in resized_images:\n",
    "        _ = method(img, f_h, f_w)\n",
    "    clock.stop()"
   ]
  }
 ],
 "metadata": {
  "kernelspec": {
   "display_name": "Python 3",
   "language": "python",
   "name": "python3"
  },
  "language_info": {
   "codemirror_mode": {
    "name": "ipython",
    "version": 3
   },
   "file_extension": ".py",
   "mimetype": "text/x-python",
   "name": "python",
   "nbconvert_exporter": "python",
   "pygments_lexer": "ipython3",
   "version": "3.7.3"
  }
 },
 "nbformat": 4,
 "nbformat_minor": 2
}
